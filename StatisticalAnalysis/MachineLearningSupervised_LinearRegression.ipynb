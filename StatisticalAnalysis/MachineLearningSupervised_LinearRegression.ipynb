{
 "cells": [
  {
   "cell_type": "markdown",
   "metadata": {},
   "source": [
    "Mathematical Methods\n",
    "Ordinary Least Squares (OLS)\n",
    "\n",
    "Pros: Simple, easy to interpret.\n",
    "Cons: Sensitive to outliers, assumes linear relationship.\n",
    "Ridge Regression (L2 regularization)\n",
    "\n",
    "Pros: Handles multicollinearity, reduces overfitting.\n",
    "Cons: Introduces bias.\n",
    "Lasso Regression (L1 regularization)\n",
    "\n",
    "Pros: Feature selection, reduces overfitting.\n",
    "Cons: Can exclude important features if they are correlated.\n",
    "Elastic Net (L1+L2 regularization)\n",
    "\n",
    "Pros: Balances Ridge and Lasso.\n",
    "Cons: Requires tuning of two hyperparameters.\n",
    "Solving Techniques\n",
    "Gradient Descent\n",
    "\n",
    "Pros: Works well for large datasets.\n",
    "Cons: Requires feature scaling, sensitive to learning rate.\n",
    "Stochastic Gradient Descent\n",
    "\n",
    "Pros: Faster than standard gradient descent, works well for large datasets.\n",
    "Cons: Less accurate, can oscillate.\n",
    "Mini-batch Gradient Descent\n",
    "\n",
    "Pros: Balance between GD and SGD, can be parallelized.\n",
    "Cons: Still requires choosing batch size and learning rate.\n",
    "Normal Equation\n",
    "\n",
    "Pros: No need for feature scaling, gives an exact solution.\n",
    "Cons: Computationally expensive for large datasets.\n",
    "Least Angle Regression (LARS)\n",
    "\n",
    "Pros: Efficient for high-dimensional data.\n",
    "Cons: Not stable for noisy systems.\n",
    "Validation Techniques\n",
    "Train-Test Split\n",
    "Cross-Validation\n",
    "Bootstrap Sampling\n",
    "Feature Engineering\n",
    "Polynomial Regression\n",
    "Feature Scaling (Standardization, Normalization)\n",
    "Feature Encoding for Categorical Variables\n",
    "Model Evaluation Metrics\n",
    "Mean Squared Error (MSE)\n",
    "Root Mean Squared Error (RMSE)\n",
    "R-squared"
   ]
  }
 ],
 "metadata": {
  "language_info": {
   "name": "python"
  }
 },
 "nbformat": 4,
 "nbformat_minor": 2
}
