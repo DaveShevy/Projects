{
 "cells": [
  {
   "cell_type": "markdown",
   "metadata": {},
   "source": [
    "# API Documentation \n",
    "https://www.alphavantage.co/documentation/\n",
    "\n",
    "In this Notebook, I will utilize the Alpha Vantage API to pull stock data for a given ticker. \n",
    "- Pull in Latest News and Sentiment Analysis\n",
    "  - Summarize using T5 model and tokenizer from TensorFlow\n"
   ]
  },
  {
   "cell_type": "code",
   "execution_count": null,
   "metadata": {},
   "outputs": [],
   "source": [
    "import requests\n",
    "import json\n",
    "from datetime import datetime\n",
    "import tensorflow as tf\n",
    "from transformers import T5Tokenizer, TFT5ForConditionalGeneration\n",
    "\n",
    "def summarize_text(text, model, tokenizer, max_length=512):\n",
    "    inputs = tokenizer.encode(\"summarize: \" + text, return_tensors=\"tf\", max_length=max_length, truncation=True)\n",
    "    summary_ids = model.generate(inputs, max_length=50, min_length=25, length_penalty=2.0, num_beams=4, early_stopping=True)\n",
    "    return tokenizer.decode(summary_ids[0], skip_special_tokens=True)\n",
    "\n",
    "model_name = 't5-small'\n",
    "tokenizer = T5Tokenizer.from_pretrained(model_name)\n",
    "model = TFT5ForConditionalGeneration.from_pretrained(model_name)\n",
    "\n",
    "# Path to your API key file\n",
    "api_key_file_path = r\"C:\\Users\\david\\OneDrive\\Documents\\API Keys\\AlphaVantage.txt\"\n",
    "\n",
    "# Read API key from file\n",
    "with open(api_key_file_path, 'r') as file:\n",
    "    API = file.read().strip()\n",
    "\n",
    "ticker = \"FSM\"\n",
    "startdate = datetime.strptime(\"12/01/2023\", \"%m/%d/%Y\")\n",
    "enddate = datetime.today()\n",
    "limit = 5\n",
    "\n",
    "news_and_sentiments_url = f'https://www.alphavantage.co/query?function=NEWS_SENTIMENT&tickers={ticker}&timefrom={startdate.strftime(\"%Y-%m-%d\")}TO{enddate.strftime(\"%Y-%m-%d\")}&limit={limit}&apikey={API}'\n",
    "\n",
    "try:\n",
    "    response = requests.get(news_and_sentiments_url)\n",
    "\n",
    "    if response.status_code == 200:\n",
    "        news_and_sentiments_data = response.json()\n",
    "\n",
    "        for item in news_and_sentiments_data.get('feed', []):\n",
    "            time_published_str = item.get('time_published', '')\n",
    "            if time_published_str:\n",
    "                time_published = datetime.strptime(time_published_str, '%Y%m%dT%H%M%S')\n",
    "\n",
    "                if startdate <= time_published <= enddate:\n",
    "                    # Filter the ticker_sentiment to only include FSM\n",
    "                    item['ticker_sentiment'] = [ts for ts in item.get('ticker_sentiment', []) if ts['ticker'] == ticker]\n",
    "\n",
    "                    # Summarize the news item\n",
    "                    summary = summarize_text(item.get('summary', ''), model, tokenizer)\n",
    "                    print(\"Original Summary:\", item.get('summary', ''))\n",
    "                    print(\"T5 Summary:\", summary)\n",
    "                    print(\"\\n\")\n",
    "    else:\n",
    "        print(f\"Failed to fetch data: Status code {response.status_code}\")\n",
    "except Exception as e:\n",
    "    print(f\"An error occurred: {e}\")\n"
   ]
  }
 ],
 "metadata": {
  "kernelspec": {
   "display_name": "base",
   "language": "python",
   "name": "python3"
  },
  "language_info": {
   "codemirror_mode": {
    "name": "ipython",
    "version": 3
   },
   "file_extension": ".py",
   "mimetype": "text/x-python",
   "name": "python",
   "nbconvert_exporter": "python",
   "pygments_lexer": "ipython3",
   "version": "3.11.5"
  },
  "orig_nbformat": 4
 },
 "nbformat": 4,
 "nbformat_minor": 2
}
